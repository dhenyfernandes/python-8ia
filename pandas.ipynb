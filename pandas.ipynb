{
 "cells": [
  {
   "cell_type": "code",
   "execution_count": null,
   "metadata": {},
   "outputs": [],
   "source": [
    "import pandas as pd\n",
    "import numpy as np"
   ]
  },
  {
   "cell_type": "markdown",
   "metadata": {},
   "source": [
    "## Leitura do arquivo"
   ]
  },
  {
   "cell_type": "code",
   "execution_count": null,
   "metadata": {},
   "outputs": [],
   "source": [
    "data = pd.read_csv('breast_cancer_data.csv',sep=',')\n",
    "data.head()"
   ]
  },
  {
   "cell_type": "code",
   "execution_count": null,
   "metadata": {},
   "outputs": [],
   "source": [
    "# para visualizar o formato do dataframe: linhas x colunas\n",
    "print('formato: ', data.shape, '\\n')"
   ]
  },
  {
   "cell_type": "markdown",
   "metadata": {},
   "source": [
    "### não temos nome de coluna, então precisamos fornecer esses nomes e passar como parâmetro na função read_csv"
   ]
  },
  {
   "cell_type": "code",
   "execution_count": null,
   "metadata": {},
   "outputs": [],
   "source": [
    "colunas = ['id','clump_thickness','cell_size_uniformity','cell_shape_uniformity','marginal_adhesion','single_ep_cell_size',\n",
    "          'bare_nuclei','bland_chromatin','normal_nucleoli','mitoses','class','doctor_name']\n",
    "\n",
    "data = pd.read_csv('breast_cancer_data.csv',names=colunas)\n",
    "data.head()"
   ]
  },
  {
   "cell_type": "code",
   "execution_count": null,
   "metadata": {},
   "outputs": [],
   "source": [
    "print(\"Quantidade de colunas: \",len(colunas),'\\n')\n",
    "\n",
    "# imprime o nome das colunas\n",
    "data.columns"
   ]
  },
  {
   "cell_type": "markdown",
   "metadata": {},
   "source": [
    "### vamos entender nossos dados"
   ]
  },
  {
   "cell_type": "code",
   "execution_count": null,
   "metadata": {},
   "outputs": [],
   "source": [
    "data.dtypes"
   ]
  },
  {
   "cell_type": "raw",
   "metadata": {},
   "source": [
    "É possível verificar todos os tipos de dados presente no dataset em formato de lista de itens únicos. "
   ]
  },
  {
   "cell_type": "code",
   "execution_count": null,
   "metadata": {},
   "outputs": [],
   "source": [
    "list(set(data.dtypes.tolist()))"
   ]
  },
  {
   "cell_type": "raw",
   "metadata": {},
   "source": [
    "para manter apenas colunas de tipos específicos no dataset, use: data.select_dtypes(include = ['float64', 'int64'])\n",
    "isto é particularmente útil quando deseja-se imprimir gráficos de distribuição sobre os dados, correlação e outras operações envolvendo \n",
    "tipos específicos.\n",
    "\n",
    "Vamos verificar a correlação entre variáveis de tipos numéricos"
   ]
  },
  {
   "cell_type": "code",
   "execution_count": null,
   "metadata": {},
   "outputs": [],
   "source": [
    "data_num = data.select_dtypes(include = ['float64', 'int64'])\n",
    "data_num = data_num.corr()['clump_thickness'][2:] # para tirar a variável clump_thickness\n",
    "data_num = data_num[abs(data_num) > 0.5].sort_values(ascending=False) #filra valores de correlaçao < 0.5 e ordena os valores\n",
    "print(\"Existem {} variáveis correlacionadas com clump_thickness:\\n{}\".format(len(data_num), data_num))"
   ]
  },
  {
   "cell_type": "raw",
   "metadata": {},
   "source": [
    "É importante observar que podem existir outliers nos dados (vamos descobrir como encontra-los e trata-los na próxima aula) e isso pode afetar\n",
    "a correlação. "
   ]
  },
  {
   "cell_type": "code",
   "execution_count": null,
   "metadata": {},
   "outputs": [],
   "source": [
    "data.describe()"
   ]
  },
  {
   "cell_type": "code",
   "execution_count": null,
   "metadata": {},
   "outputs": [],
   "source": [
    "data.info()"
   ]
  },
  {
   "cell_type": "raw",
   "metadata": {},
   "source": [
    "com valores categóricos, podemos agrupar"
   ]
  },
  {
   "cell_type": "code",
   "execution_count": null,
   "metadata": {},
   "outputs": [],
   "source": [
    "data.groupby(by =['class','doctor_name']).size()"
   ]
  },
  {
   "cell_type": "raw",
   "metadata": {},
   "source": [
    "Além disso, para dados categóricos, podemos conta a quantidade presente em cada categoria."
   ]
  },
  {
   "cell_type": "code",
   "execution_count": null,
   "metadata": {},
   "outputs": [],
   "source": [
    "print(data['class'].value_counts(),'\\n')\n",
    "# data['doctor_name'].value_counts() para médicos\n",
    "\n",
    "# se quisermos os valores normalizados, precisamos adicionar um parâmetro\n",
    "print('Dados normalizados: \\n',data['class'].value_counts(normalize=True))"
   ]
  },
  {
   "cell_type": "raw",
   "metadata": {},
   "source": [
    "Podemos ordenar os valores de um dataframe a partir de uma ou mais colunas, definindo se será(ão) ascendente(s) e/ou descente(s)"
   ]
  },
  {
   "cell_type": "code",
   "execution_count": null,
   "metadata": {},
   "outputs": [],
   "source": [
    "# ordenando apenas por uma coluna\n",
    "data.sort_values(by='cell_size_uniformity',ascending=False).tail()"
   ]
  },
  {
   "cell_type": "code",
   "execution_count": null,
   "metadata": {},
   "outputs": [],
   "source": [
    "# ordenando por múltiplas colunas\n",
    "data.sort_values(by=['cell_size_uniformity','bare_nuclei'],ascending=[False,True]).head()"
   ]
  },
  {
   "cell_type": "raw",
   "metadata": {},
   "source": [
    "Podemos aplicar alguns métodos (soma, média, std, ...) numa coluna específica"
   ]
  },
  {
   "cell_type": "code",
   "execution_count": null,
   "metadata": {},
   "outputs": [],
   "source": [
    "# média\n",
    "data.clump_thickness.mean()"
   ]
  },
  {
   "cell_type": "raw",
   "metadata": {},
   "source": [
    "Assim, podemos responder questões como: qual o tamanho médio das células para cada tipo de tumor?"
   ]
  },
  {
   "cell_type": "code",
   "execution_count": null,
   "metadata": {},
   "outputs": [],
   "source": [
    "# benigno\n",
    "print('Tamanho - benigno: ',data[data['class']=='benign']['cell_size_uniformity'].mean(),'\\n')\n",
    "print('Tamanho - maligno: ',data[data['class']=='malignant']['cell_size_uniformity'].mean(),'\\n')"
   ]
  },
  {
   "cell_type": "raw",
   "metadata": {},
   "source": [
    "Podemos, também, responder questões que envolvem operações lógicas. Exemplo: qual o número máximo de mitoses em tumores benignos encontraddos pelo Dr. Wong?"
   ]
  },
  {
   "cell_type": "code",
   "execution_count": null,
   "metadata": {},
   "outputs": [],
   "source": [
    "data[(data['class']=='malignant') & (data['doctor_name']=='Dr. Wong')]['mitoses'].max()"
   ]
  },
  {
   "cell_type": "raw",
   "metadata": {},
   "source": [
    "É possível delimitar quais colunas e linhas queremos analisar. "
   ]
  },
  {
   "cell_type": "code",
   "execution_count": null,
   "metadata": {},
   "outputs": [],
   "source": [
    "# Analisando as 10 primeiras linhas das colunas 2 a 5\n",
    "data.loc[0:9,'cell_size_uniformity':'single_ep_cell_size']\n",
    "#data.iloc[0:9,2:6] # usando iloc, podemos passar apenas os índices"
   ]
  },
  {
   "cell_type": "code",
   "execution_count": null,
   "metadata": {},
   "outputs": [],
   "source": [
    "# acessando a última linha do dataframe\n",
    "data[-1:]"
   ]
  },
  {
   "cell_type": "markdown",
   "metadata": {},
   "source": [
    "### Lidando com valores faltantes"
   ]
  },
  {
   "cell_type": "code",
   "execution_count": null,
   "metadata": {},
   "outputs": [],
   "source": [
    "data.isna().sum()"
   ]
  },
  {
   "cell_type": "code",
   "execution_count": null,
   "metadata": {},
   "outputs": [],
   "source": [
    "data = data.dropna(axis = 0, how = 'any')\n",
    "len(data)"
   ]
  },
  {
   "cell_type": "markdown",
   "metadata": {},
   "source": [
    "### Lidando com valores duplicados"
   ]
  },
  {
   "cell_type": "code",
   "execution_count": null,
   "metadata": {},
   "outputs": [],
   "source": [
    "data[data.duplicated()]"
   ]
  },
  {
   "cell_type": "code",
   "execution_count": null,
   "metadata": {},
   "outputs": [],
   "source": [
    "data = data.drop_duplicates()"
   ]
  },
  {
   "cell_type": "code",
   "execution_count": null,
   "metadata": {},
   "outputs": [],
   "source": [
    "data[data.duplicated()]"
   ]
  },
  {
   "cell_type": "markdown",
   "metadata": {},
   "source": [
    "## Aplicando funções "
   ]
  },
  {
   "cell_type": "raw",
   "metadata": {},
   "source": [
    "com apply, fica fácil aplicar funções em todo o data frame. "
   ]
  },
  {
   "cell_type": "code",
   "execution_count": null,
   "metadata": {},
   "outputs": [],
   "source": [
    "# encontrando o valor máximo em cada coluna\n",
    "data.apply(np.max)"
   ]
  },
  {
   "cell_type": "raw",
   "metadata": {},
   "source": [
    "Isso nos mostrou que existem valores inconsistentes na coluna bare_nuclei, como podemos confirmar a seguir:"
   ]
  },
  {
   "cell_type": "code",
   "execution_count": null,
   "metadata": {},
   "outputs": [],
   "source": [
    "data['bare_nuclei'].unique()"
   ]
  },
  {
   "cell_type": "raw",
   "metadata": {},
   "source": [
    "Assim, precisamos tratar essa coluna de maneira apropriada"
   ]
  },
  {
   "cell_type": "code",
   "execution_count": null,
   "metadata": {},
   "outputs": [],
   "source": [
    "data['bare_nuclei'] = data['bare_nuclei'].replace('?','6').astype('int64')"
   ]
  },
  {
   "cell_type": "code",
   "execution_count": null,
   "metadata": {},
   "outputs": [],
   "source": [
    "#executando de novo para testar\n",
    "data.apply(np.max)"
   ]
  },
  {
   "cell_type": "markdown",
   "metadata": {},
   "source": [
    "### Funções de agregação"
   ]
  },
  {
   "cell_type": "raw",
   "metadata": {},
   "source": [
    "Podemos agrupar os dados usando groupby e depois aplicar funções de agregação para entendermos os dados a partir dessas funções. "
   ]
  },
  {
   "cell_type": "code",
   "execution_count": null,
   "metadata": {},
   "outputs": [],
   "source": [
    "colunas = ['cell_size_uniformity','cell_shape_uniformity','mitoses']\n",
    "data.groupby(['class'])[colunas].agg([np.mean, np.min, np.max])"
   ]
  },
  {
   "cell_type": "markdown",
   "metadata": {},
   "source": [
    "### Filtrando dados"
   ]
  },
  {
   "cell_type": "code",
   "execution_count": null,
   "metadata": {},
   "outputs": [],
   "source": [
    "repeat_patients = data.groupby(by = 'id').size().sort_values(ascending =False)\n",
    "repeat_patients"
   ]
  },
  {
   "cell_type": "code",
   "execution_count": null,
   "metadata": {},
   "outputs": [],
   "source": [
    "filtered_patients = repeat_patients[repeat_patients > 2].to_frame().reset_index()\n",
    "filtered_data = data[~data.id.isin(filtered_patients.id)]"
   ]
  },
  {
   "cell_type": "code",
   "execution_count": null,
   "metadata": {},
   "outputs": [],
   "source": [
    "filtered_data"
   ]
  },
  {
   "cell_type": "code",
   "execution_count": null,
   "metadata": {},
   "outputs": [],
   "source": []
  }
 ],
 "metadata": {
  "kernelspec": {
   "display_name": "Python 3",
   "language": "python",
   "name": "python3"
  },
  "language_info": {
   "codemirror_mode": {
    "name": "ipython",
    "version": 3
   },
   "file_extension": ".py",
   "mimetype": "text/x-python",
   "name": "python",
   "nbconvert_exporter": "python",
   "pygments_lexer": "ipython3",
   "version": "3.6.4"
  }
 },
 "nbformat": 4,
 "nbformat_minor": 2
}
