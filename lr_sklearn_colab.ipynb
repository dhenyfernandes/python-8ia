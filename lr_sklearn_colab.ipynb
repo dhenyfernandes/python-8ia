{
 "cells": [
  {
   "cell_type": "code",
   "execution_count": null,
   "metadata": {
    "colab": {},
    "colab_type": "code",
    "id": "Lj7eNX2Td-R2"
   },
   "outputs": [],
   "source": [
    "import pandas as pd \n",
    "import numpy as np \n",
    "from sklearn.model_selection import train_test_split\n",
    "from sklearn import linear_model\n",
    "from sklearn.metrics import mean_squared_error"
   ]
  },
  {
   "cell_type": "code",
   "execution_count": null,
   "metadata": {
    "colab": {
     "base_uri": "https://localhost:8080/",
     "height": 34
    },
    "colab_type": "code",
    "id": "5zhC56bleJc8",
    "outputId": "e4054e3c-60dc-41bd-c47b-4512652ae94c"
   },
   "outputs": [],
   "source": [
    "from google.colab import drive\n",
    "drive.mount('/content/drive')"
   ]
  },
  {
   "cell_type": "code",
   "execution_count": null,
   "metadata": {
    "colab": {
     "base_uri": "https://localhost:8080/",
     "height": 195
    },
    "colab_type": "code",
    "id": "oj__Xwkld-R7",
    "outputId": "c40e641c-648a-4458-b46d-a49c85741917"
   },
   "outputs": [],
   "source": [
    "#sempre olhar o conjunto de dados com antenção\n",
    "df_beer = pd.read_csv('/content/drive/My Drive/datasets/Consumo_cerveja.csv',nrows=365,delimiter=';')\n",
    "df_beer.head()"
   ]
  },
  {
   "cell_type": "code",
   "execution_count": null,
   "metadata": {
    "colab": {
     "base_uri": "https://localhost:8080/",
     "height": 195
    },
    "colab_type": "code",
    "id": "QJItyUICd-R-",
    "outputId": "27b37dbb-513b-4a4e-f88a-02e1a74192c0"
   },
   "outputs": [],
   "source": [
    "#tratamento do data frame\n",
    "df_beer = df_beer.rename(columns={'Temperatura Media (C)':'meanTemp','Temperatura Minima (C)':'minTemp','Temperatura Maxima (C)':'maxTemp',\n",
    "                       'Precipitacao (mm)':'precip','Final de Semana':'weekend','Consumo de cerveja (litros)':'consumo'})\n",
    "df_beer.head()"
   ]
  },
  {
   "cell_type": "code",
   "execution_count": null,
   "metadata": {
    "colab": {},
    "colab_type": "code",
    "id": "uLqTuDild-SC"
   },
   "outputs": [],
   "source": [
    "feature_col = ['maxTemp','precip','weekend']\n",
    "meta_col = ['consumo']\n",
    "\n",
    "X = df_beer[feature_col].values\n",
    "y = df_beer[meta_col].values\n",
    "split_test_size = 0.30"
   ]
  },
  {
   "cell_type": "code",
   "execution_count": null,
   "metadata": {
    "colab": {},
    "colab_type": "code",
    "id": "MR1QPDqEd-SF"
   },
   "outputs": [],
   "source": [
    "X_train, X_test, y_train, y_test = train_test_split(X, y, test_size=split_test_size, random_state=42)"
   ]
  },
  {
   "cell_type": "code",
   "execution_count": null,
   "metadata": {
    "colab": {
     "base_uri": "https://localhost:8080/",
     "height": 34
    },
    "colab_type": "code",
    "id": "Gw2XJYdgd-SI",
    "outputId": "fe5468a0-4e98-4e36-a370-0c23d7ae92c4"
   },
   "outputs": [],
   "source": [
    "lr_model = linear_model.LinearRegression()\n",
    "lr_model.fit(X_train, y_train.ravel()) # flatten arrays"
   ]
  },
  {
   "cell_type": "code",
   "execution_count": null,
   "metadata": {
    "colab": {},
    "colab_type": "code",
    "id": "d38QtR59d-SL"
   },
   "outputs": [],
   "source": [
    "y_pred = lr_model.predict(X_test)"
   ]
  },
  {
   "cell_type": "code",
   "execution_count": null,
   "metadata": {
    "colab": {
     "base_uri": "https://localhost:8080/",
     "height": 34
    },
    "colab_type": "code",
    "id": "7LiorTtVd-SO",
    "outputId": "eac26860-40a7-4cb3-8fe0-ca7508fef907"
   },
   "outputs": [],
   "source": [
    "mean_squared_error(y_test,y_pred)"
   ]
  },
  {
   "cell_type": "code",
   "execution_count": null,
   "metadata": {
    "colab": {
     "base_uri": "https://localhost:8080/",
     "height": 34
    },
    "colab_type": "code",
    "id": "ei3KckTRd-SU",
    "outputId": "d20d82ea-9d57-4f48-ac7b-a60ec83b337a"
   },
   "outputs": [],
   "source": [
    "#testando com novas amostras\n",
    "pred_value = [[35,0,1]]\n",
    "lr_model.predict(pred_value)"
   ]
  },
  {
   "cell_type": "code",
   "execution_count": null,
   "metadata": {
    "colab": {
     "base_uri": "https://localhost:8080/",
     "height": 34
    },
    "colab_type": "code",
    "id": "TeB9t-S3d-SY",
    "outputId": "4f6e0846-f7c9-4f61-996b-7c84c7b638cc"
   },
   "outputs": [],
   "source": [
    "lr_model.coef_"
   ]
  },
  {
   "cell_type": "code",
   "execution_count": null,
   "metadata": {
    "colab": {
     "base_uri": "https://localhost:8080/",
     "height": 67
    },
    "colab_type": "code",
    "id": "wnQb39F8d-Sc",
    "outputId": "8261085b-21bc-41eb-e0cf-07f74251e9e9"
   },
   "outputs": [],
   "source": [
    "#computando parâmetros analiticamente\n",
    "X = np.matrix(X)\n",
    "aux1 = np.matmul(X.transpose(),X)\n",
    "inv = np.linalg.inv(aux1)\n",
    "aux2 = np.matmul(X.transpose(),y)\n",
    "theta = np.matmul(inv,aux2)\n",
    "theta"
   ]
  },
  {
   "cell_type": "code",
   "execution_count": null,
   "metadata": {
    "colab": {},
    "colab_type": "code",
    "id": "K7irTHfpd-Sj"
   },
   "outputs": [],
   "source": [
    "from sklearn.externals import joblib\n",
    "\n",
    "joblib.dump(lr_model, r'C:\\Users\\Dheny\\Documents\\Machine learning\\lr_model.pkl') \n",
    "lr_model_loaded = joblib.load(r'C:\\Users\\Dheny\\Documents\\Machine learning\\lr_model.pkl') "
   ]
  },
  {
   "cell_type": "code",
   "execution_count": null,
   "metadata": {
    "colab": {},
    "colab_type": "code",
    "id": "ot9K0oZrd-Sn"
   },
   "outputs": [],
   "source": []
  },
  {
   "cell_type": "code",
   "execution_count": null,
   "metadata": {
    "colab": {},
    "colab_type": "code",
    "id": "V_F85rrad-Ss"
   },
   "outputs": [],
   "source": []
  }
 ],
 "metadata": {
  "colab": {
   "name": "lr_sklearn.ipynb",
   "provenance": [],
   "version": "0.3.2"
  },
  "kernelspec": {
   "display_name": "Python 3",
   "language": "python",
   "name": "python3"
  },
  "language_info": {
   "codemirror_mode": {
    "name": "ipython",
    "version": 3
   },
   "file_extension": ".py",
   "mimetype": "text/x-python",
   "name": "python",
   "nbconvert_exporter": "python",
   "pygments_lexer": "ipython3",
   "version": "3.6.4"
  }
 },
 "nbformat": 4,
 "nbformat_minor": 2
}
